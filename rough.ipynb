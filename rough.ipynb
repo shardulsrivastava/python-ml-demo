{
 "cells": [
  {
   "cell_type": "code",
   "execution_count": 1,
   "metadata": {},
   "outputs": [],
   "source": [
    "import streamlit as st"
   ]
  },
  {
   "cell_type": "code",
   "execution_count": null,
   "metadata": {},
   "outputs": [],
   "source": [
    "if st.button(\"Submit\"):\n",
    "    if user_name and user_email and uploaded_files:\n",
    "        # Process each uploaded image\n",
    "        for idx, uploaded_file in enumerate(uploaded_files):\n",
    "            try:\n",
    "            print(uploaded_file)\n",
    "            # Display the image\n",
    "            st.image(uploaded_file, caption=uploaded_file.name)\n",
    "\n",
    "            # Simulate sending image to backend and getting prediction\n",
    "            # Here you would send the image to your backend server\n",
    "            # response = requests.post(\n",
    "            #     \"http://your-backend-server/predict\",\n",
    "            #     files={\"file\": uploaded_file.getvalue()},\n",
    "            #     data={\"name\": user_name, \"email\": user_email}\n",
    "            # )\n",
    "\n",
    "            # Display prediction result (mocked here)\n",
    "            result = 0 #response.json().get(\"prediction\", \"No result\")\n",
    "            with cols[idx % 3]:  # Adjust based on number of columns\n",
    "                st.image(uploaded_file, caption=f\"Uploaded Image {idx+1}\", use_column_width=True)\n",
    "                st.write(f\"Prediction: {result}\")\n",
    "    else:\n",
    "        st.error(\"Please fill in all fields and upload at least one image.\")"
   ]
  }
 ],
 "metadata": {
  "kernelspec": {
   "display_name": "broadWebApp_env",
   "language": "python",
   "name": "python3"
  },
  "language_info": {
   "codemirror_mode": {
    "name": "ipython",
    "version": 3
   },
   "file_extension": ".py",
   "mimetype": "text/x-python",
   "name": "python",
   "nbconvert_exporter": "python",
   "pygments_lexer": "ipython3",
   "version": "3.11.10"
  }
 },
 "nbformat": 4,
 "nbformat_minor": 2
}
